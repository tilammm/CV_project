{
 "cells": [
  {
   "cell_type": "code",
   "execution_count": null,
   "metadata": {},
   "outputs": [],
   "source": [
    "%load_ext autoreload\n",
    "%autoreload 2\n",
    "import os\n",
    "import torch as t\n",
    "from utils.config import opt\n",
    "from model import FasterRCNN\n",
    "from trainer import FasterRCNNTrainer\n",
    "from data.util import  read_image\n",
    "from utils.vis_tool import vis_bbox\n",
    "from utils import array_tool as at\n",
    "%matplotlib inline"
   ]
  },
  {
   "cell_type": "code",
   "execution_count": null,
   "metadata": {},
   "outputs": [],
   "source": [
    "faster_rcnn = FasterRCNN()\n",
    "trainer = FasterRCNNTrainer(faster_rcnn).cuda()"
   ]
  },
  {
   "cell_type": "code",
   "execution_count": null,
   "metadata": {
    "scrolled": true
   },
   "outputs": [],
   "source": [
    "\n",
    "trainer.load('/home/cy/chainer_best_model_converted_to_pytorch_0.7053.pth')\n",
    "opt.caffe_pretrain=True # this model was trained from caffe-pretrained model\n",
    "_bboxes, _labels, _scores = trainer.faster_rcnn.predict(img,visualize=True)\n",
    "vis_bbox(at.tonumpy(img[0]),\n",
    "         at.tonumpy(_bboxes[0]),\n",
    "         at.tonumpy(_labels[0]).reshape(-1),\n",
    "         at.tonumpy(_scores[0]).reshape(-1))"
   ]
  }
 ],
 "metadata": {
  "kernelspec": {
   "display_name": "Python 3",
   "language": "python",
   "name": "python3"
  },
  "language_info": {
   "codemirror_mode": {
    "name": "ipython",
    "version": 3
   },
   "file_extension": ".py",
   "mimetype": "text/x-python",
   "name": "python",
   "nbconvert_exporter": "python",
   "pygments_lexer": "ipython3",
   "version": "3.5.2"
  }
 },
 "nbformat": 4,
 "nbformat_minor": 2
}