{
  "nbformat": 4,
  "nbformat_minor": 0,
  "metadata": {
    "kernelspec": {
      "display_name": "Python 3",
      "language": "python",
      "name": "python3"
    },
    "language_info": {
      "codemirror_mode": {
        "name": "ipython",
        "version": 3
      },
      "file_extension": ".py",
      "mimetype": "text/x-python",
      "name": "python",
      "nbconvert_exporter": "python",
      "pygments_lexer": "ipython3",
      "version": "3.5.2"
    },
    "colab": {
      "name": "demo.ipynb",
      "provenance": [],
      "collapsed_sections": []
    },
    "accelerator": "GPU"
  },
  "cells": [
    {
      "cell_type": "code",
      "metadata": {
        "id": "_bPV7923EnLO"
      },
      "source": [
        "import os\n",
        "import sys\n",
        "import torch as t\n",
        "from model import FasterRCNN\n",
        "from data.dataset import DOTADataset\n",
        "from utils import convertor as at\n",
        "from utils.trainer import FasterRCNNTrainer\n",
        "from utils.evaluation import eval_detection_voc\n",
        "\n",
        "from tqdm.notebook import tqdm\n",
        "import numpy as np\n",
        "from PIL import Image\n",
        "import glob\n",
        "import matplotlib.pyplot as plt\n",
        "from torch.utils.data import DataLoader, Dataset\n",
        "from torch.utils.data import sampler, random_split\n",
        "from torch.optim import lr_scheduler\n",
        "from torchvision import datasets, models, transforms\n",
        "from torchnet.meter import AverageValueMeter\n",
        "import torchvision\n",
        "%matplotlib inline"
      ],
      "execution_count": 15,
      "outputs": []
    },
    {
      "cell_type": "code",
      "metadata": {
        "id": "6t73iTVIEnLT"
      },
      "source": [
        "device = t.device(\"cuda\" if t.cuda.is_available() else \"cpu\")\n",
        "faster_rcnn = FasterRCNN(n_fg_class=16)\n",
        "trainer = FasterRCNNTrainer(faster_rcnn).to(device)"
      ],
      "execution_count": 11,
      "outputs": []
    },
    {
      "cell_type": "code",
      "metadata": {
        "id": "c8LrUfCwmvzI"
      },
      "source": [
        "mean_nums = [0.485, 0.456, 0.406]\n",
        "std_nums = [0.229, 0.224, 0.225]\n",
        "train_transforms = transforms.Compose([\n",
        "        transforms.RandomResizedCrop(size=(800, 800)),\n",
        "        transforms.RandomRotation(degrees=10),\n",
        "        transforms.RandomHorizontalFlip(),\n",
        "        transforms.RandomVerticalFlip(),\n",
        "        transforms.ColorJitter(brightness=0.15, contrast=0.15),\n",
        "        transforms.ToTensor(),\n",
        "        transforms.Normalize(mean_nums, std_nums)\n",
        "])\n",
        "\n",
        "validation_transforms = transforms.Compose([\n",
        "        transforms.Resize((800, 800)),\n",
        "        transforms.CenterCrop((800, 800)),\n",
        "        transforms.ToTensor(),\n",
        "        transforms.Normalize(mean_nums, std_nums)\n",
        "        ])"
      ],
      "execution_count": 12,
      "outputs": []
    },
    {
      "cell_type": "code",
      "metadata": {
        "id": "TI_-nKfeOzCz"
      },
      "source": [
        "label_dict = {'small-vehicle': 0, \n",
        "              'large-vehicle': 1, \n",
        "              'ship': 2, \n",
        "              'harbor': 3, \n",
        "              'bridge': 4, \n",
        "              'plane': 5, \n",
        "              'basketball-court': 6, \n",
        "              'tennis-court': 7, \n",
        "              'swimming-pool': 8, \n",
        "              'soccer-ball-field': 9, \n",
        "              'ground-track-field': 10, \n",
        "              'storage-tank': 11, \n",
        "              'baseball-diamond': 12, \n",
        "              'helicopter': 13, \n",
        "              'roundabout': 14, \n",
        "              'container-crane': 15}\n"
      ],
      "execution_count": 13,
      "outputs": []
    },
    {
      "cell_type": "code",
      "metadata": {
        "id": "J2-xI6D1xWwl"
      },
      "source": [
        "train_dataset = DOTADataset('train_images/', 'train_y/', train_transforms)\n",
        "val_dataset = DOTADataset('val_images/images/', 'val_y/', validation_transforms)"
      ],
      "execution_count": null,
      "outputs": []
    },
    {
      "cell_type": "code",
      "metadata": {
        "id": "zHHKZRb-yyUG"
      },
      "source": [
        "def train(train_dataset, val_dataset, trainer, num_epochs=6):\n",
        "    for epoch in range(num_epochs):\n",
        "        trainer.reset_meters()\n",
        "        print(f'Epoch: {epoch+1}/{num_epochs}')\n",
        "        dataloader = DataLoader(train_dataset, \\\n",
        "                            batch_size=1, \\\n",
        "                            shuffle=True, \\\n",
        "                            num_workers=1)\n",
        "        \n",
        "        trainer.faster_rcnn.train() \n",
        "        \n",
        "        current_loss = 0.0\n",
        "        num_img = 0\n",
        "        for img, labels in dataloader:\n",
        "            img = img.cuda().float()\n",
        "            for label_data in labels:\n",
        "                x1, y1, x2, y2, x3, y3, x4, y4, label, _ = label_data\n",
        "                y_min = np.min([float(y1[0]), float(y2[0]), float(y3[0]), float(y4[0])])\n",
        "                y_max = np.max([float(y1[0]), float(y2[0]), float(y3[0]), float(y4[0])])\n",
        "                x_min = np.min([float(x1[0]), float(x2[0]), float(x3[0]), float(x4[0])])\n",
        "                x_max = np.max([float(x1[0]), float(x2[0]), float(x3[0]), float(x4[0])])\n",
        "                label = [label]\n",
        "                bbox_ =  np.array([[y_min, x_min, y_max, x_max]])\n",
        "                bbox_ = np.array([np.stack(bbox_).astype(np.float32)])\n",
        "                bbox = t.FloatTensor(bbox_)\n",
        "                \n",
        "                losses = trainer.train_step(img, bbox, label, 1.)\n",
        "                current_loss += losses.total_loss \n",
        "                num_img += 1\n",
        "        \n",
        "        epoch_loss = current_loss / num_img\n",
        "\n",
        "        print(f'Epoch loss: {loss:.2f}'.format(loss=epoch_loss))\n",
        "\n",
        "        pred_bboxes, pred_labels, pred_scores = list(), list(), list()\n",
        "        gt_bboxes, gt_labels, gt_difficults = list(), list(), list()\n",
        "        dataloader = DataLoader(val_dataset, \\\n",
        "                            batch_size=1, \\\n",
        "                            shuffle=True, \\\n",
        "                            num_workers=1)\n",
        "        \n",
        "        for ii, (imgs,  labels) in enumerate(dataloader):\n",
        "            gt_labels_ = []\n",
        "            gt_bboxes_ = []\n",
        "            for label_data in labels:\n",
        "                x1, y1, x2, y2, x3, y3, x4, y4, label, _ = label_data\n",
        "                y_min = np.min([float(y1[0]), float(y2[0]), float(y3[0]), float(y4[0])])\n",
        "                y_max = np.max([float(y1[0]), float(y2[0]), float(y3[0]), float(y4[0])])\n",
        "                x_min = np.min([float(x1[0]), float(x2[0]), float(x3[0]), float(x4[0])])\n",
        "                x_max = np.max([float(x1[0]), float(x2[0]), float(x3[0]), float(x4[0])])\n",
        "                gt_labels_.append(label)\n",
        "                bbox_ =  np.array([[y_min, x_min, y_max, x_max]])\n",
        "                bbox_ = np.array([np.stack(bbox_).astype(np.float32)])\n",
        "                gt_bboxes_.append(t.FloatTensor(bbox_))\n",
        "            \n",
        "            imgs = imgs.to(device)\n",
        "            \n",
        "            pred_bboxes_, pred_labels_, pred_scores_ = trainer.faster_rcnn.predict(imgs, [(800, 800)])\n",
        "            gt_bboxes += gt_bboxes_\n",
        "            gt_labels += gt_labels_\n",
        "            pred_bboxes += pred_bboxes_\n",
        "            pred_labels += pred_labels_\n",
        "            pred_scores += pred_scores_\n",
        "        gt_difficults = None\n",
        "        \n",
        "        result = eval_detection_voc(\n",
        "            pred_bboxes, pred_labels, pred_scores,\n",
        "            gt_bboxes, gt_labels, gt_difficults,\n",
        "            use_07_metric=True)\n",
        "        print('mAP: {map:.2f}'.format(map=result['map']))\n",
        "\n",
        "            "
      ],
      "execution_count": 17,
      "outputs": []
    },
    {
      "cell_type": "code",
      "metadata": {
        "id": "27Z_yQzKMQ63",
        "outputId": "d29d40b4-0f85-4ce2-8e9b-c3f4860743f7",
        "colab": {
          "base_uri": "https://localhost:8080/",
          "height": 323
        }
      },
      "source": [
        "train(train_dataset, val_dataset, trainer)"
      ],
      "execution_count": 18,
      "outputs": [
        {
          "output_type": "stream",
          "text": [
            "Epoch:1/6\n",
            "Epoch loss: 11.42\n",
            "mAP:0.68\n",
            "Epoch:2/6\n",
            "Epoch loss: 8.97\n",
            "mAP:0.71\n",
            "Epoch:3/6\n",
            "Epoch loss: 6.34\n",
            "mAP:0.72\n",
            "Epoch:4/6\n",
            "Epoch loss: 5.98\n",
            "mAP:0.74\n",
            "Epoch:5/6\n",
            "Epoch loss: 5.91\n",
            "mAP:0.73\n",
            "Epoch:6/6\n",
            "Epoch loss: 5.92\n",
            "mAP:0.73\n"
          ],
          "name": "stdout"
        }
      ]
    }
  ]
}